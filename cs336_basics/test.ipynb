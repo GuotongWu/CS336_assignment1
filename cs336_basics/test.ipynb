{
 "cells": [
  {
   "cell_type": "code",
   "execution_count": 1,
   "id": "a3f260e1",
   "metadata": {},
   "outputs": [],
   "source": [
    "import torch\n",
    "import torch.nn as nn"
   ]
  },
  {
   "cell_type": "code",
   "execution_count": 2,
   "id": "88cb6590",
   "metadata": {},
   "outputs": [],
   "source": [
    "class Linear(nn.Module):\n",
    "    def __init__(self, in_features: int, out_features: int, \n",
    "                device: torch.device | None = None, \n",
    "                dtype: torch.dtype | None = None):\n",
    "        super().__init__()\n",
    "        W = torch.empty((in_features, out_features), dtype=dtype, device=device)\n",
    "        W = nn.init.trunc_normal_(W, mean=0, std=2/(in_features+out_features))\n",
    "        self.W = nn.Parameter(W, requires_grad=True)\n",
    "\n",
    "    def forward(self, x: torch.Tensor) -> torch.Tensor:\n",
    "        return x @ self.W"
   ]
  },
  {
   "cell_type": "code",
   "execution_count": 3,
   "id": "6fc2e550",
   "metadata": {},
   "outputs": [],
   "source": [
    "linear = Linear(32, 64)"
   ]
  },
  {
   "cell_type": "code",
   "execution_count": 6,
   "id": "059f939a",
   "metadata": {},
   "outputs": [
    {
     "name": "stdout",
     "output_type": "stream",
     "text": [
      "odict_keys(['W'])\n"
     ]
    }
   ],
   "source": [
    "print(linear.state_dict().keys())"
   ]
  },
  {
   "cell_type": "code",
   "execution_count": 9,
   "id": "731686be",
   "metadata": {},
   "outputs": [
    {
     "data": {
      "text/plain": [
       "<All keys matched successfully>"
      ]
     },
     "execution_count": 9,
     "metadata": {},
     "output_type": "execute_result"
    }
   ],
   "source": [
    "weights = torch.rand(32, 64)\n",
    "linear.load_state_dict({'W': weights})"
   ]
  },
  {
   "cell_type": "code",
   "execution_count": 10,
   "id": "6bf9b403",
   "metadata": {},
   "outputs": [
    {
     "data": {
      "text/plain": [
       "torch.Size([8, 64])"
      ]
     },
     "execution_count": 10,
     "metadata": {},
     "output_type": "execute_result"
    }
   ],
   "source": [
    "linear(torch.rand(8,32)).shape"
   ]
  },
  {
   "cell_type": "code",
   "execution_count": 15,
   "id": "aca90c7f",
   "metadata": {},
   "outputs": [],
   "source": [
    "class Embedding(nn.Module):\n",
    "    def __init__(self, num_embeddings: int, embedding_dim: int, \n",
    "                 device: torch.device | None = None,\n",
    "                 dytpe: torch.dtype | None = None):\n",
    "        super().__init__()\n",
    "        embed_matrix = torch.empty((num_embeddings, embedding_dim), dtype=dytpe, device=device)\n",
    "        embed_matrix = nn.init.trunc_normal_(embed_matrix, mean=0, std=1, a=-3, b=3)\n",
    "        self.embed_matrix = nn.Parameter(embed_matrix, requires_grad=True)\n",
    "\n",
    "    def forward(self, token_ids: torch.Tensor) -> torch.Tensor:\n",
    "        return self.embed_matrix[token_ids]"
   ]
  },
  {
   "cell_type": "code",
   "execution_count": 16,
   "id": "c56b6c0d",
   "metadata": {},
   "outputs": [],
   "source": [
    "embed = Embedding(256, 32)"
   ]
  },
  {
   "cell_type": "code",
   "execution_count": 17,
   "id": "c5e0bdc2",
   "metadata": {},
   "outputs": [],
   "source": [
    "x = torch.randint(low=0, high=256, size=(8, 64))"
   ]
  },
  {
   "cell_type": "code",
   "execution_count": 18,
   "id": "c53c0744",
   "metadata": {},
   "outputs": [
    {
     "data": {
      "text/plain": [
       "torch.Size([8, 64, 32])"
      ]
     },
     "execution_count": 18,
     "metadata": {},
     "output_type": "execute_result"
    }
   ],
   "source": [
    "embed(x).shape"
   ]
  },
  {
   "cell_type": "code",
   "execution_count": null,
   "id": "fd3e7614",
   "metadata": {},
   "outputs": [],
   "source": []
  }
 ],
 "metadata": {
  "kernelspec": {
   "display_name": "assignment1-basic",
   "language": "python",
   "name": "python3"
  },
  "language_info": {
   "codemirror_mode": {
    "name": "ipython",
    "version": 3
   },
   "file_extension": ".py",
   "mimetype": "text/x-python",
   "name": "python",
   "nbconvert_exporter": "python",
   "pygments_lexer": "ipython3",
   "version": "3.11.13"
  }
 },
 "nbformat": 4,
 "nbformat_minor": 5
}
